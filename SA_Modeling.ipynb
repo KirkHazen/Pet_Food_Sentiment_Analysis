{
 "cells": [
  {
   "cell_type": "markdown",
   "id": "8c6115c4-a165-42d2-b89d-14e6d7485cd1",
   "metadata": {},
   "source": [
    "## Modeling plan\n",
    "\n",
    "\n",
    "The main goal will be to do sentiment analysis on the tweets but part of the goal is to see what else influences the sentiment analysis to go up and down.\n",
    "\n",
    "So preparing the text data for sentiment analysis is part of the modeling effort. The sentiment score for each tweet was cast in a binary fashion."
   ]
  },
  {
   "cell_type": "code",
   "execution_count": null,
   "id": "f1dcee80-ed97-42b5-b67f-c07347fdd6ec",
   "metadata": {},
   "outputs": [],
   "source": []
  },
  {
   "cell_type": "code",
   "execution_count": 195,
   "id": "2584976a-b12d-4dee-a132-ea5ac71de1b7",
   "metadata": {},
   "outputs": [],
   "source": [
    "import pandas as pd\n",
    "import numpy as np\n",
    "import os\n",
    "import matplotlib.pyplot as plt\n",
    "import seaborn as sns\n",
    "from sklearn.decomposition import PCA\n",
    "from sklearn import preprocessing\n",
    "from sklearn.preprocessing import scale\n",
    "from sklearn.model_selection import train_test_split\n",
    "import ppscore as pps\n",
    "import statsmodels.api as sm \n",
    "from statsmodels.graphics.api import abline_plot \n",
    "from sklearn.metrics import mean_squared_error, r2_score, mean_absolute_error\n",
    "import matplotlib.lines as lines\n",
    "from sklearn import linear_model\n",
    "from sklearn.tree import DecisionTreeRegressor\n",
    "from numpy import absolute\n",
    "from sklearn.model_selection import cross_val_score\n",
    "from sklearn.model_selection import RepeatedKFold\n",
    "from numpy import mean\n",
    "from numpy import std\n",
    "from sklearn.feature_selection import RFE\n",
    "from sklearn.linear_model import LinearRegression\n",
    "from sklearn.pipeline import Pipeline\n",
    "import math\n",
    "from xgboost import XGBClassifier, train\n",
    "import xgboost as xgb\n",
    "from sklearn.svm import SVC\n",
    "from sklearn.linear_model import LogisticRegression\n",
    "from sklearn.svm import LinearSVC\n",
    "from sklearn.datasets import make_classification\n",
    "from sklearn.metrics import confusion_matrix\n",
    "from sklearn.metrics import classification_report\n",
    "from sklearn.neighbors import KNeighborsClassifier\n",
    "import warnings \n",
    "warnings.simplefilter(action=\"ignore\", category=FutureWarning)\n",
    "warnings.filterwarnings(action=\"ignore\", module=\"scipy\", message=\"^internal gelsd\")"
   ]
  },
  {
   "cell_type": "code",
   "execution_count": 196,
   "id": "b75ab8ca-c8d0-4658-b7d0-3755817c3de2",
   "metadata": {
    "tags": []
   },
   "outputs": [],
   "source": [
    "df = pd.read_csv('SA_df.csv')"
   ]
  },
  {
   "cell_type": "code",
   "execution_count": 197,
   "id": "52b4423e-a6b2-4834-b8a8-ffe0e5a8eec8",
   "metadata": {},
   "outputs": [
    {
     "data": {
      "text/html": [
       "<div>\n",
       "<style scoped>\n",
       "    .dataframe tbody tr th:only-of-type {\n",
       "        vertical-align: middle;\n",
       "    }\n",
       "\n",
       "    .dataframe tbody tr th {\n",
       "        vertical-align: top;\n",
       "    }\n",
       "\n",
       "    .dataframe thead th {\n",
       "        text-align: right;\n",
       "    }\n",
       "</style>\n",
       "<table border=\"1\" class=\"dataframe\">\n",
       "  <thead>\n",
       "    <tr style=\"text-align: right;\">\n",
       "      <th></th>\n",
       "      <th>Tweet_Length</th>\n",
       "      <th>Tweet_Date</th>\n",
       "      <th>UserName</th>\n",
       "      <th>Full_Tweets</th>\n",
       "      <th>Tweet_Links</th>\n",
       "      <th>at_word</th>\n",
       "      <th>Mention_Count</th>\n",
       "      <th>Week</th>\n",
       "      <th>Count_ADJs</th>\n",
       "      <th>Count_NOUNS</th>\n",
       "      <th>Count_VERBS</th>\n",
       "      <th>Positive_sentiment</th>\n",
       "      <th>sentiment_cut</th>\n",
       "      <th>vocab_size</th>\n",
       "      <th>diversity</th>\n",
       "    </tr>\n",
       "  </thead>\n",
       "  <tbody>\n",
       "    <tr>\n",
       "      <th>0</th>\n",
       "      <td>140</td>\n",
       "      <td>2023-02-09 19:42:43+00:00</td>\n",
       "      <td>Purina</td>\n",
       "      <td>thank you for reaching out  we re sorry that ...</td>\n",
       "      <td>https://t.co/k5ncW6PGIU</td>\n",
       "      <td>lhartness</td>\n",
       "      <td>1</td>\n",
       "      <td>6</td>\n",
       "      <td>2</td>\n",
       "      <td>2</td>\n",
       "      <td>4</td>\n",
       "      <td>0.000050</td>\n",
       "      <td>1</td>\n",
       "      <td>17</td>\n",
       "      <td>1.058824</td>\n",
       "    </tr>\n",
       "    <tr>\n",
       "      <th>1</th>\n",
       "      <td>139</td>\n",
       "      <td>2023-02-09 19:41:43+00:00</td>\n",
       "      <td>Purina</td>\n",
       "      <td>thank you for reaching out  we re sorry that ...</td>\n",
       "      <td>https://t.co/tABQff7epw</td>\n",
       "      <td>fireshadowed</td>\n",
       "      <td>1</td>\n",
       "      <td>6</td>\n",
       "      <td>2</td>\n",
       "      <td>1</td>\n",
       "      <td>4</td>\n",
       "      <td>0.000171</td>\n",
       "      <td>1</td>\n",
       "      <td>16</td>\n",
       "      <td>1.062500</td>\n",
       "    </tr>\n",
       "    <tr>\n",
       "      <th>2</th>\n",
       "      <td>140</td>\n",
       "      <td>2023-02-09 16:09:53+00:00</td>\n",
       "      <td>Purina</td>\n",
       "      <td>thank you for reaching out to us  when you ha...</td>\n",
       "      <td>https://t.co/GMsyUvy5Oq</td>\n",
       "      <td>BonnieblueBlue</td>\n",
       "      <td>1</td>\n",
       "      <td>6</td>\n",
       "      <td>1</td>\n",
       "      <td>2</td>\n",
       "      <td>4</td>\n",
       "      <td>0.971268</td>\n",
       "      <td>0</td>\n",
       "      <td>17</td>\n",
       "      <td>1.176471</td>\n",
       "    </tr>\n",
       "    <tr>\n",
       "      <th>3</th>\n",
       "      <td>144</td>\n",
       "      <td>2023-02-09 05:00:15+00:00</td>\n",
       "      <td>Purina</td>\n",
       "      <td>thanks for reaching out about alpo come   get...</td>\n",
       "      <td>https://t.co/VsPUdZPWfP</td>\n",
       "      <td>waffletower</td>\n",
       "      <td>1</td>\n",
       "      <td>6</td>\n",
       "      <td>2</td>\n",
       "      <td>2</td>\n",
       "      <td>4</td>\n",
       "      <td>0.975506</td>\n",
       "      <td>0</td>\n",
       "      <td>20</td>\n",
       "      <td>1.000000</td>\n",
       "    </tr>\n",
       "    <tr>\n",
       "      <th>4</th>\n",
       "      <td>94</td>\n",
       "      <td>2023-02-08 20:44:37+00:00</td>\n",
       "      <td>Purina</td>\n",
       "      <td>we can t keep our tails from wagging in antic...</td>\n",
       "      <td>httpNone</td>\n",
       "      <td>OpenDoorAnimals</td>\n",
       "      <td>1</td>\n",
       "      <td>6</td>\n",
       "      <td>0</td>\n",
       "      <td>3</td>\n",
       "      <td>3</td>\n",
       "      <td>0.000001</td>\n",
       "      <td>1</td>\n",
       "      <td>13</td>\n",
       "      <td>1.000000</td>\n",
       "    </tr>\n",
       "  </tbody>\n",
       "</table>\n",
       "</div>"
      ],
      "text/plain": [
       "   Tweet_Length                 Tweet_Date UserName  \\\n",
       "0           140  2023-02-09 19:42:43+00:00   Purina   \n",
       "1           139  2023-02-09 19:41:43+00:00   Purina   \n",
       "2           140  2023-02-09 16:09:53+00:00   Purina   \n",
       "3           144  2023-02-09 05:00:15+00:00   Purina   \n",
       "4            94  2023-02-08 20:44:37+00:00   Purina   \n",
       "\n",
       "                                         Full_Tweets              Tweet_Links  \\\n",
       "0   thank you for reaching out  we re sorry that ...  https://t.co/k5ncW6PGIU   \n",
       "1   thank you for reaching out  we re sorry that ...  https://t.co/tABQff7epw   \n",
       "2   thank you for reaching out to us  when you ha...  https://t.co/GMsyUvy5Oq   \n",
       "3   thanks for reaching out about alpo come   get...  https://t.co/VsPUdZPWfP   \n",
       "4   we can t keep our tails from wagging in antic...                 httpNone   \n",
       "\n",
       "           at_word  Mention_Count  Week  Count_ADJs  Count_NOUNS  Count_VERBS  \\\n",
       "0        lhartness              1     6           2            2            4   \n",
       "1     fireshadowed              1     6           2            1            4   \n",
       "2   BonnieblueBlue              1     6           1            2            4   \n",
       "3      waffletower              1     6           2            2            4   \n",
       "4  OpenDoorAnimals              1     6           0            3            3   \n",
       "\n",
       "   Positive_sentiment  sentiment_cut  vocab_size  diversity  \n",
       "0            0.000050              1          17   1.058824  \n",
       "1            0.000171              1          16   1.062500  \n",
       "2            0.971268              0          17   1.176471  \n",
       "3            0.975506              0          20   1.000000  \n",
       "4            0.000001              1          13   1.000000  "
      ]
     },
     "execution_count": 197,
     "metadata": {},
     "output_type": "execute_result"
    }
   ],
   "source": [
    "df.head()"
   ]
  },
  {
   "cell_type": "code",
   "execution_count": 198,
   "id": "151d68bc-fa68-429a-b7f4-6b7cd4918b70",
   "metadata": {},
   "outputs": [
    {
     "data": {
      "text/plain": [
       "Index(['Tweet_Length', 'Tweet_Date', 'UserName', 'Full_Tweets', 'Tweet_Links',\n",
       "       'at_word', 'Mention_Count', 'Week', 'Count_ADJs', 'Count_NOUNS',\n",
       "       'Count_VERBS', 'Positive_sentiment', 'sentiment_cut', 'vocab_size',\n",
       "       'diversity'],\n",
       "      dtype='object')"
      ]
     },
     "execution_count": 198,
     "metadata": {},
     "output_type": "execute_result"
    }
   ],
   "source": [
    "df.columns"
   ]
  },
  {
   "cell_type": "markdown",
   "id": "91b32c12-890f-449d-baf9-b5f51c11d90a",
   "metadata": {},
   "source": [
    "The entity counts did not improve any of the models, so they will be removed. It was worth a try."
   ]
  },
  {
   "cell_type": "code",
   "execution_count": null,
   "id": "b75b82d4-7c95-4246-a2b2-6916b089088b",
   "metadata": {},
   "outputs": [],
   "source": [
    "\n",
    "#Need to pair this down for one hot encoding"
   ]
  },
  {
   "cell_type": "code",
   "execution_count": null,
   "id": "f6095010-09fe-4e84-bd77-f10bf05c9645",
   "metadata": {},
   "outputs": [],
   "source": [
    "## Run this all again with WEEK gone and see how it improves; SO same as dropping SINE/COSINE BELOW"
   ]
  },
  {
   "cell_type": "code",
   "execution_count": 200,
   "id": "d109f416-c86d-4ffc-b942-3660bcb6a533",
   "metadata": {},
   "outputs": [],
   "source": [
    "df_prep = df.drop(columns=['Tweet_Date', 'Full_Tweets', 'Tweet_Links', 'at_word', 'Positive_sentiment', 'Week'])"
   ]
  },
  {
   "cell_type": "code",
   "execution_count": 201,
   "id": "2e03d637-c8f1-462b-8180-a5c0cc0824c6",
   "metadata": {},
   "outputs": [
    {
     "name": "stdout",
     "output_type": "stream",
     "text": [
      "<class 'pandas.core.frame.DataFrame'>\n",
      "RangeIndex: 796 entries, 0 to 795\n",
      "Data columns (total 9 columns):\n",
      " #   Column         Non-Null Count  Dtype  \n",
      "---  ------         --------------  -----  \n",
      " 0   Tweet_Length   796 non-null    int64  \n",
      " 1   UserName       796 non-null    object \n",
      " 2   Mention_Count  796 non-null    int64  \n",
      " 3   Count_ADJs     796 non-null    int64  \n",
      " 4   Count_NOUNS    796 non-null    int64  \n",
      " 5   Count_VERBS    796 non-null    int64  \n",
      " 6   sentiment_cut  796 non-null    int64  \n",
      " 7   vocab_size     796 non-null    int64  \n",
      " 8   diversity      796 non-null    float64\n",
      "dtypes: float64(1), int64(7), object(1)\n",
      "memory usage: 56.1+ KB\n"
     ]
    }
   ],
   "source": [
    "df_prep.info()\n",
    "# first edition: So week is an int here but it is actually an object. Not something I want to one-hot encode, so let's try a different approach."
   ]
  },
  {
   "cell_type": "code",
   "execution_count": 11,
   "id": "e4abe00b-5f9a-4188-b8cd-87644102d939",
   "metadata": {},
   "outputs": [
    {
     "data": {
      "text/html": [
       "<div>\n",
       "<style scoped>\n",
       "    .dataframe tbody tr th:only-of-type {\n",
       "        vertical-align: middle;\n",
       "    }\n",
       "\n",
       "    .dataframe tbody tr th {\n",
       "        vertical-align: top;\n",
       "    }\n",
       "\n",
       "    .dataframe thead th {\n",
       "        text-align: right;\n",
       "    }\n",
       "</style>\n",
       "<table border=\"1\" class=\"dataframe\">\n",
       "  <thead>\n",
       "    <tr style=\"text-align: right;\">\n",
       "      <th></th>\n",
       "      <th>Tweet_Length</th>\n",
       "      <th>UserName</th>\n",
       "      <th>Mention_Count</th>\n",
       "      <th>Week</th>\n",
       "      <th>Count_ADJs</th>\n",
       "      <th>Count_NOUNS</th>\n",
       "      <th>Count_VERBS</th>\n",
       "      <th>sentiment_cut</th>\n",
       "      <th>x_norm</th>\n",
       "      <th>cos_x</th>\n",
       "      <th>sin_x</th>\n",
       "    </tr>\n",
       "  </thead>\n",
       "  <tbody>\n",
       "    <tr>\n",
       "      <th>0</th>\n",
       "      <td>140</td>\n",
       "      <td>Purina</td>\n",
       "      <td>1</td>\n",
       "      <td>6</td>\n",
       "      <td>2</td>\n",
       "      <td>2</td>\n",
       "      <td>4</td>\n",
       "      <td>1</td>\n",
       "      <td>0.724983</td>\n",
       "      <td>0.748511</td>\n",
       "      <td>0.663123</td>\n",
       "    </tr>\n",
       "    <tr>\n",
       "      <th>1</th>\n",
       "      <td>139</td>\n",
       "      <td>Purina</td>\n",
       "      <td>1</td>\n",
       "      <td>6</td>\n",
       "      <td>2</td>\n",
       "      <td>1</td>\n",
       "      <td>4</td>\n",
       "      <td>1</td>\n",
       "      <td>0.724983</td>\n",
       "      <td>0.748511</td>\n",
       "      <td>0.663123</td>\n",
       "    </tr>\n",
       "    <tr>\n",
       "      <th>2</th>\n",
       "      <td>140</td>\n",
       "      <td>Purina</td>\n",
       "      <td>1</td>\n",
       "      <td>6</td>\n",
       "      <td>1</td>\n",
       "      <td>2</td>\n",
       "      <td>4</td>\n",
       "      <td>0</td>\n",
       "      <td>0.724983</td>\n",
       "      <td>0.748511</td>\n",
       "      <td>0.663123</td>\n",
       "    </tr>\n",
       "    <tr>\n",
       "      <th>3</th>\n",
       "      <td>144</td>\n",
       "      <td>Purina</td>\n",
       "      <td>1</td>\n",
       "      <td>6</td>\n",
       "      <td>2</td>\n",
       "      <td>2</td>\n",
       "      <td>4</td>\n",
       "      <td>0</td>\n",
       "      <td>0.724983</td>\n",
       "      <td>0.748511</td>\n",
       "      <td>0.663123</td>\n",
       "    </tr>\n",
       "    <tr>\n",
       "      <th>4</th>\n",
       "      <td>94</td>\n",
       "      <td>Purina</td>\n",
       "      <td>1</td>\n",
       "      <td>6</td>\n",
       "      <td>0</td>\n",
       "      <td>3</td>\n",
       "      <td>3</td>\n",
       "      <td>1</td>\n",
       "      <td>0.724983</td>\n",
       "      <td>0.748511</td>\n",
       "      <td>0.663123</td>\n",
       "    </tr>\n",
       "  </tbody>\n",
       "</table>\n",
       "</div>"
      ],
      "text/plain": [
       "   Tweet_Length UserName  Mention_Count  Week  Count_ADJs  Count_NOUNS  \\\n",
       "0           140   Purina              1     6           2            2   \n",
       "1           139   Purina              1     6           2            1   \n",
       "2           140   Purina              1     6           1            2   \n",
       "3           144   Purina              1     6           2            2   \n",
       "4            94   Purina              1     6           0            3   \n",
       "\n",
       "   Count_VERBS  sentiment_cut    x_norm     cos_x     sin_x  \n",
       "0            4              1  0.724983  0.748511  0.663123  \n",
       "1            4              1  0.724983  0.748511  0.663123  \n",
       "2            4              0  0.724983  0.748511  0.663123  \n",
       "3            4              0  0.724983  0.748511  0.663123  \n",
       "4            3              1  0.724983  0.748511  0.663123  "
      ]
     },
     "execution_count": 11,
     "metadata": {},
     "output_type": "execute_result"
    }
   ],
   "source": [
    "## working with sine and cosine; two features instead of one but better than 52-1 for one hot encoding\n",
    "## https://towardsdatascience.com/cyclical-features-encoding-its-about-time-ce23581845ca\n",
    "#df_prep[\"x_norm\"] = 2 * math.pi * df_prep[\"Week\"] / df_prep[\"Week\"].max()\n",
    "#df_prep[\"cos_x\"] = np.cos(df_prep[\"x_norm\"])\n",
    "#df_prep[\"sin_x\"] = np.sin(df_prep[\"x_norm\"])\n",
    "#df_prep.head()"
   ]
  },
  {
   "cell_type": "code",
   "execution_count": 12,
   "id": "11a5b8b4-b35a-4f6c-a397-e02a4b574ee1",
   "metadata": {},
   "outputs": [],
   "source": [
    "## plot of sine, cosine values\n",
    "#import plotly.graph_objects as go\n",
    "\n",
    "#fig = go.Figure()\n",
    "\n",
    "#fig.add_trace(go.Scatter(x=df_prep.x_norm, y=df_prep.cos_x, name='cos_x'))\n",
    "#fig.add_trace(go.Scatter(x=df_prep.x_norm, y=df_prep.sin_x, name='sin_x'))\n",
    "\n",
    "#fig.update_layout(yaxis = dict(scaleanchor = \"x\", scaleratio = 1))\n",
    "\n",
    "#fig.show()"
   ]
  },
  {
   "cell_type": "code",
   "execution_count": 16,
   "id": "cd0d3b49-a3b9-45fd-a944-daf1b8bc7c96",
   "metadata": {},
   "outputs": [],
   "source": [
    "#df_prep = df_prep.drop(columns = ['x_norm', 'Week'])"
   ]
  },
  {
   "cell_type": "code",
   "execution_count": 203,
   "id": "7a506f88-a4db-4577-9b0e-784ca3ee59eb",
   "metadata": {},
   "outputs": [
    {
     "data": {
      "text/html": [
       "<div>\n",
       "<style scoped>\n",
       "    .dataframe tbody tr th:only-of-type {\n",
       "        vertical-align: middle;\n",
       "    }\n",
       "\n",
       "    .dataframe tbody tr th {\n",
       "        vertical-align: top;\n",
       "    }\n",
       "\n",
       "    .dataframe thead th {\n",
       "        text-align: right;\n",
       "    }\n",
       "</style>\n",
       "<table border=\"1\" class=\"dataframe\">\n",
       "  <thead>\n",
       "    <tr style=\"text-align: right;\">\n",
       "      <th></th>\n",
       "      <th>Tweet_Length</th>\n",
       "      <th>Mention_Count</th>\n",
       "      <th>Count_ADJs</th>\n",
       "      <th>Count_NOUNS</th>\n",
       "      <th>Count_VERBS</th>\n",
       "      <th>sentiment_cut</th>\n",
       "      <th>vocab_size</th>\n",
       "      <th>diversity</th>\n",
       "      <th>UserName_DiamondPetFood</th>\n",
       "      <th>UserName_Purina</th>\n",
       "      <th>UserName_bluebuffalo</th>\n",
       "      <th>UserName_wellnesspetfood</th>\n",
       "    </tr>\n",
       "  </thead>\n",
       "  <tbody>\n",
       "    <tr>\n",
       "      <th>0</th>\n",
       "      <td>140</td>\n",
       "      <td>1</td>\n",
       "      <td>2</td>\n",
       "      <td>2</td>\n",
       "      <td>4</td>\n",
       "      <td>1</td>\n",
       "      <td>17</td>\n",
       "      <td>1.058824</td>\n",
       "      <td>0</td>\n",
       "      <td>1</td>\n",
       "      <td>0</td>\n",
       "      <td>0</td>\n",
       "    </tr>\n",
       "    <tr>\n",
       "      <th>1</th>\n",
       "      <td>139</td>\n",
       "      <td>1</td>\n",
       "      <td>2</td>\n",
       "      <td>1</td>\n",
       "      <td>4</td>\n",
       "      <td>1</td>\n",
       "      <td>16</td>\n",
       "      <td>1.062500</td>\n",
       "      <td>0</td>\n",
       "      <td>1</td>\n",
       "      <td>0</td>\n",
       "      <td>0</td>\n",
       "    </tr>\n",
       "    <tr>\n",
       "      <th>2</th>\n",
       "      <td>140</td>\n",
       "      <td>1</td>\n",
       "      <td>1</td>\n",
       "      <td>2</td>\n",
       "      <td>4</td>\n",
       "      <td>0</td>\n",
       "      <td>17</td>\n",
       "      <td>1.176471</td>\n",
       "      <td>0</td>\n",
       "      <td>1</td>\n",
       "      <td>0</td>\n",
       "      <td>0</td>\n",
       "    </tr>\n",
       "    <tr>\n",
       "      <th>3</th>\n",
       "      <td>144</td>\n",
       "      <td>1</td>\n",
       "      <td>2</td>\n",
       "      <td>2</td>\n",
       "      <td>4</td>\n",
       "      <td>0</td>\n",
       "      <td>20</td>\n",
       "      <td>1.000000</td>\n",
       "      <td>0</td>\n",
       "      <td>1</td>\n",
       "      <td>0</td>\n",
       "      <td>0</td>\n",
       "    </tr>\n",
       "    <tr>\n",
       "      <th>4</th>\n",
       "      <td>94</td>\n",
       "      <td>1</td>\n",
       "      <td>0</td>\n",
       "      <td>3</td>\n",
       "      <td>3</td>\n",
       "      <td>1</td>\n",
       "      <td>13</td>\n",
       "      <td>1.000000</td>\n",
       "      <td>0</td>\n",
       "      <td>1</td>\n",
       "      <td>0</td>\n",
       "      <td>0</td>\n",
       "    </tr>\n",
       "  </tbody>\n",
       "</table>\n",
       "</div>"
      ],
      "text/plain": [
       "   Tweet_Length  Mention_Count  Count_ADJs  Count_NOUNS  Count_VERBS  \\\n",
       "0           140              1           2            2            4   \n",
       "1           139              1           2            1            4   \n",
       "2           140              1           1            2            4   \n",
       "3           144              1           2            2            4   \n",
       "4            94              1           0            3            3   \n",
       "\n",
       "   sentiment_cut  vocab_size  diversity  UserName_DiamondPetFood  \\\n",
       "0              1          17   1.058824                        0   \n",
       "1              1          16   1.062500                        0   \n",
       "2              0          17   1.176471                        0   \n",
       "3              0          20   1.000000                        0   \n",
       "4              1          13   1.000000                        0   \n",
       "\n",
       "   UserName_Purina  UserName_bluebuffalo  UserName_wellnesspetfood  \n",
       "0                1                     0                         0  \n",
       "1                1                     0                         0  \n",
       "2                1                     0                         0  \n",
       "3                1                     0                         0  \n",
       "4                1                     0                         0  "
      ]
     },
     "execution_count": 203,
     "metadata": {},
     "output_type": "execute_result"
    }
   ],
   "source": [
    "### Sorting out the categorical variables\n",
    "dfo = df_prep.select_dtypes(include=['object']) # select object type columns\n",
    "df_ready = pd.concat([df_prep.drop(dfo, axis=1), pd.get_dummies(dfo)], axis=1) ### concatenating the dummy filled columns\n",
    "df_ready.head()"
   ]
  },
  {
   "cell_type": "code",
   "execution_count": 204,
   "id": "0ff1d3f2-df7f-4202-98cc-5a4328d017b2",
   "metadata": {},
   "outputs": [],
   "source": [
    "df_ready.to_csv('SA_df_ready.csv', index=False)"
   ]
  },
  {
   "cell_type": "code",
   "execution_count": 206,
   "id": "eede95d6-dbb1-4bac-b583-f6b354fdbc6f",
   "metadata": {},
   "outputs": [],
   "source": [
    "### Test Train Split for df_ready\n",
    "X = df_ready.loc[:, df_ready.columns!='sentiment_cut']\n",
    "y = df_ready.sentiment_cut\n",
    "\n",
    "X_train, X_test, y_train, y_test = train_test_split(X, y, test_size=.3, random_state=42)"
   ]
  },
  {
   "cell_type": "code",
   "execution_count": 207,
   "id": "3f32cb7e-fb31-465a-b050-bba9dd2a5f7f",
   "metadata": {},
   "outputs": [],
   "source": [
    "# For Total, build scaler based on training data and apply it to X_test data \n",
    "scaler = preprocessing.StandardScaler().fit(X_train)\n",
    "X_train_scaled=scaler.transform(X_train)\n",
    "X_test_scaled=scaler.transform(X_test)"
   ]
  },
  {
   "cell_type": "code",
   "execution_count": 208,
   "id": "a99d875f-ee92-413d-b676-71b65dbce90f",
   "metadata": {},
   "outputs": [
    {
     "name": "stdout",
     "output_type": "stream",
     "text": [
      "Total tweet training data (557, 11) ; Total tweet test data (239, 11) \n",
      " Total sentiment score training data (557,) ; Total sentiment score data (239,)\n"
     ]
    }
   ],
   "source": [
    "# For df, We now want to check the shape of the X train, y_train, X_test and y_test to make sure the proportions are right. \n",
    "print('Total tweet training data', X_train_scaled.shape, ';', 'Total tweet test data', X_test_scaled.shape, \n",
    "      \"\\n\", 'Total sentiment score training data', y_train.shape,';', 'Total sentiment score data', y_test.shape) \n"
   ]
  },
  {
   "cell_type": "markdown",
   "id": "98fedefa-fc55-4c21-b6cf-346fa4a77b6e",
   "metadata": {},
   "source": [
    "## Logistic Regression"
   ]
  },
  {
   "cell_type": "code",
   "execution_count": 209,
   "id": "ff7872da-afa6-47dd-be7f-68f9d5d7eee1",
   "metadata": {},
   "outputs": [],
   "source": [
    "# Using logistic regression for the entire Total set\n",
    "rModel = LogisticRegression()"
   ]
  },
  {
   "cell_type": "code",
   "execution_count": 210,
   "id": "24c8e7dd-7d21-4a2f-99b9-b6dc36ca806c",
   "metadata": {},
   "outputs": [
    {
     "data": {
      "text/html": [
       "<style>#sk-container-id-15 {color: black;background-color: white;}#sk-container-id-15 pre{padding: 0;}#sk-container-id-15 div.sk-toggleable {background-color: white;}#sk-container-id-15 label.sk-toggleable__label {cursor: pointer;display: block;width: 100%;margin-bottom: 0;padding: 0.3em;box-sizing: border-box;text-align: center;}#sk-container-id-15 label.sk-toggleable__label-arrow:before {content: \"▸\";float: left;margin-right: 0.25em;color: #696969;}#sk-container-id-15 label.sk-toggleable__label-arrow:hover:before {color: black;}#sk-container-id-15 div.sk-estimator:hover label.sk-toggleable__label-arrow:before {color: black;}#sk-container-id-15 div.sk-toggleable__content {max-height: 0;max-width: 0;overflow: hidden;text-align: left;background-color: #f0f8ff;}#sk-container-id-15 div.sk-toggleable__content pre {margin: 0.2em;color: black;border-radius: 0.25em;background-color: #f0f8ff;}#sk-container-id-15 input.sk-toggleable__control:checked~div.sk-toggleable__content {max-height: 200px;max-width: 100%;overflow: auto;}#sk-container-id-15 input.sk-toggleable__control:checked~label.sk-toggleable__label-arrow:before {content: \"▾\";}#sk-container-id-15 div.sk-estimator input.sk-toggleable__control:checked~label.sk-toggleable__label {background-color: #d4ebff;}#sk-container-id-15 div.sk-label input.sk-toggleable__control:checked~label.sk-toggleable__label {background-color: #d4ebff;}#sk-container-id-15 input.sk-hidden--visually {border: 0;clip: rect(1px 1px 1px 1px);clip: rect(1px, 1px, 1px, 1px);height: 1px;margin: -1px;overflow: hidden;padding: 0;position: absolute;width: 1px;}#sk-container-id-15 div.sk-estimator {font-family: monospace;background-color: #f0f8ff;border: 1px dotted black;border-radius: 0.25em;box-sizing: border-box;margin-bottom: 0.5em;}#sk-container-id-15 div.sk-estimator:hover {background-color: #d4ebff;}#sk-container-id-15 div.sk-parallel-item::after {content: \"\";width: 100%;border-bottom: 1px solid gray;flex-grow: 1;}#sk-container-id-15 div.sk-label:hover label.sk-toggleable__label {background-color: #d4ebff;}#sk-container-id-15 div.sk-serial::before {content: \"\";position: absolute;border-left: 1px solid gray;box-sizing: border-box;top: 0;bottom: 0;left: 50%;z-index: 0;}#sk-container-id-15 div.sk-serial {display: flex;flex-direction: column;align-items: center;background-color: white;padding-right: 0.2em;padding-left: 0.2em;position: relative;}#sk-container-id-15 div.sk-item {position: relative;z-index: 1;}#sk-container-id-15 div.sk-parallel {display: flex;align-items: stretch;justify-content: center;background-color: white;position: relative;}#sk-container-id-15 div.sk-item::before, #sk-container-id-15 div.sk-parallel-item::before {content: \"\";position: absolute;border-left: 1px solid gray;box-sizing: border-box;top: 0;bottom: 0;left: 50%;z-index: -1;}#sk-container-id-15 div.sk-parallel-item {display: flex;flex-direction: column;z-index: 1;position: relative;background-color: white;}#sk-container-id-15 div.sk-parallel-item:first-child::after {align-self: flex-end;width: 50%;}#sk-container-id-15 div.sk-parallel-item:last-child::after {align-self: flex-start;width: 50%;}#sk-container-id-15 div.sk-parallel-item:only-child::after {width: 0;}#sk-container-id-15 div.sk-dashed-wrapped {border: 1px dashed gray;margin: 0 0.4em 0.5em 0.4em;box-sizing: border-box;padding-bottom: 0.4em;background-color: white;}#sk-container-id-15 div.sk-label label {font-family: monospace;font-weight: bold;display: inline-block;line-height: 1.2em;}#sk-container-id-15 div.sk-label-container {text-align: center;}#sk-container-id-15 div.sk-container {/* jupyter's `normalize.less` sets `[hidden] { display: none; }` but bootstrap.min.css set `[hidden] { display: none !important; }` so we also need the `!important` here to be able to override the default hidden behavior on the sphinx rendered scikit-learn.org. See: https://github.com/scikit-learn/scikit-learn/issues/21755 */display: inline-block !important;position: relative;}#sk-container-id-15 div.sk-text-repr-fallback {display: none;}</style><div id=\"sk-container-id-15\" class=\"sk-top-container\"><div class=\"sk-text-repr-fallback\"><pre>LogisticRegression()</pre><b>In a Jupyter environment, please rerun this cell to show the HTML representation or trust the notebook. <br />On GitHub, the HTML representation is unable to render, please try loading this page with nbviewer.org.</b></div><div class=\"sk-container\" hidden><div class=\"sk-item\"><div class=\"sk-estimator sk-toggleable\"><input class=\"sk-toggleable__control sk-hidden--visually\" id=\"sk-estimator-id-15\" type=\"checkbox\" checked><label for=\"sk-estimator-id-15\" class=\"sk-toggleable__label sk-toggleable__label-arrow\">LogisticRegression</label><div class=\"sk-toggleable__content\"><pre>LogisticRegression()</pre></div></div></div></div></div>"
      ],
      "text/plain": [
       "LogisticRegression()"
      ]
     },
     "execution_count": 210,
     "metadata": {},
     "output_type": "execute_result"
    }
   ],
   "source": [
    "rModel.fit(X_train_scaled, y_train)"
   ]
  },
  {
   "cell_type": "code",
   "execution_count": 211,
   "id": "52d73a33-3a91-4ff3-833b-b6fab33175a1",
   "metadata": {},
   "outputs": [
    {
     "name": "stdout",
     "output_type": "stream",
     "text": [
      "Training R-sqaured for simple logistic regression: 0.5888689407540395\n",
      "Testing R-squared for simple logistic regression: 0.5397489539748954\n"
     ]
    }
   ],
   "source": [
    "# Evaluate the model: And a halfway decent R-Squared score for a full go; Ok comparison for the test score. \n",
    "# Not awesome\n",
    "\n",
    "print(\"Training R-sqaured for simple logistic regression:\", rModel.score(X_train_scaled, y_train))\n",
    "print(\"Testing R-squared for simple logistic regression:\", rModel.score(X_test_scaled, y_test))"
   ]
  },
  {
   "cell_type": "code",
   "execution_count": 212,
   "id": "d8144e31-e344-48b8-abe3-808d09dc298e",
   "metadata": {},
   "outputs": [],
   "source": [
    "# Use the model to make predictions about our test data\n",
    "y_pred = rModel.predict(X_test_scaled)"
   ]
  },
  {
   "cell_type": "code",
   "execution_count": 213,
   "id": "5dfafab7-3ac7-4271-a9f1-0d1af707bce0",
   "metadata": {},
   "outputs": [
    {
     "name": "stdout",
     "output_type": "stream",
     "text": [
      "The Root Mean Squared Error with Logistic Regression: 0.68\n",
      "The Mean Absolute Error with Logistic Regression: 0.46\n",
      "Coefficient of determination with Logistic Regression: -0.84\n"
     ]
    }
   ],
   "source": [
    "###mean_squared_error, r2_score, mean_absolute_error\n",
    "print('The Root Mean Squared Error with Logistic Regression:', round(np.sqrt(mean_squared_error(y_test,y_pred)), 2))\n",
    "print('The Mean Absolute Error with Logistic Regression:', round(mean_absolute_error(y_test,y_pred), 2))\n",
    "print('Coefficient of determination with Logistic Regression:', round(r2_score(y_test,y_pred), 2))\n",
    "## So the errors aren't bad but the R-squared is trash"
   ]
  },
  {
   "cell_type": "code",
   "execution_count": 214,
   "id": "4a649627-f623-46ad-87bd-901e640b0834",
   "metadata": {
    "scrolled": true
   },
   "outputs": [
    {
     "data": {
      "image/png": "[encoded data removed]",
      "text/plain": [
       "<Figure size 640x480 with 1 Axes>"
      ]
     },
     "metadata": {},
     "output_type": "display_data"
    }
   ],
   "source": [
    "# Let's plot the predictions against the actual result. Use scatter()\n",
    "# appears that there is an exponential curve to the relationship\n",
    "_ = plt.bar(y_test, y_pred)\n",
    "_ = plt.ylabel('Positivity Predicted')\n",
    "_ = plt.xlabel('Positivity Acutal')\n",
    "plt.savefig('Positivity for Logistic Regression');"
   ]
  },
  {
   "cell_type": "markdown",
   "id": "21994e5b-adde-4f2f-a219-18faf26c98b7",
   "metadata": {},
   "source": [
    "Logitic regression appears to NOT be the answer here."
   ]
  },
  {
   "cell_type": "markdown",
   "id": "63291b75-5dcc-44c3-8a35-1f8cea7e8055",
   "metadata": {},
   "source": [
    "## Decision Tree Regressor"
   ]
  },
  {
   "cell_type": "code",
   "execution_count": 215,
   "id": "b8febc64-2276-45b5-bd6f-69526afee3a3",
   "metadata": {},
   "outputs": [],
   "source": [
    "tree_reg1 = DecisionTreeRegressor(max_depth=6, random_state=42)\n",
    "tree_reg1.fit(X_train_scaled, y_train)\n",
    "y_pred_tree1 = tree_reg1.predict(X_test_scaled)"
   ]
  },
  {
   "cell_type": "code",
   "execution_count": 216,
   "id": "d1fce0e7-4e30-4b90-aa3a-0b66582da284",
   "metadata": {},
   "outputs": [
    {
     "name": "stdout",
     "output_type": "stream",
     "text": [
      "Training score for DecisionTreeRegressor: 0.2464543438919864\n",
      "Testing score for DecisionTreeRegressor: -0.022207626807351666\n"
     ]
    }
   ],
   "source": [
    "# Evaluate the model: And a halfway decent R-Squared score for a full go; Ok comparison for the test score. \n",
    "# Not looking great\n",
    "\n",
    "print(\"Training score for DecisionTreeRegressor:\", tree_reg1.score(X_train_scaled, y_train))\n",
    "print(\"Testing score for DecisionTreeRegressor:\", tree_reg1.score(X_test_scaled, y_test))"
   ]
  },
  {
   "cell_type": "code",
   "execution_count": 217,
   "id": "544bc24a-9238-42d6-bdcd-33f7563c43c9",
   "metadata": {
    "scrolled": true
   },
   "outputs": [
    {
     "name": "stdout",
     "output_type": "stream",
     "text": [
      "The Root Mean Squared Error Decision Tree Regression Depth 2: 0.51\n",
      "The Mean Absolute Error Decision Tree Regression Depth 2: 0.45\n",
      "Coefficient of determination Decision Tree Regression Depth 2: -0.02\n"
     ]
    }
   ],
   "source": [
    "###mean_squared_error, r2_score, mean_absolute_error. TREE WITH DEPTH 2\n",
    "print('The Root Mean Squared Error Decision Tree Regression Depth 2:', round(np.sqrt(mean_squared_error(y_test,y_pred_tree1)), 2))\n",
    "print('The Mean Absolute Error Decision Tree Regression Depth 2:', round(mean_absolute_error(y_test,y_pred_tree1), 2))\n",
    "print('Coefficient of determination Decision Tree Regression Depth 2:', round(r2_score(y_test,y_pred_tree1), 2))"
   ]
  },
  {
   "cell_type": "code",
   "execution_count": 218,
   "id": "db97c41f-286a-44e4-9bfd-2e27603a1664",
   "metadata": {},
   "outputs": [
    {
     "name": "stdout",
     "output_type": "stream",
     "text": [
      "Training R-sqaured for Decision Tree Regression Depth 6: 0.2464543438919864\n",
      "Testing R-squared for Decision Tree Regression Depth 6: -0.022207626807351666\n"
     ]
    }
   ],
   "source": [
    "# Evaluate the model: And a halfway decent R-Squared score for a full go; Ok comparison for the test score. \n",
    "# Not overfit or underfit\n",
    "print(\"Training R-sqaured for Decision Tree Regression Depth 6:\", tree_reg1.score(X_train_scaled, y_train))\n",
    "print(\"Testing R-squared for Decision Tree Regression Depth 6:\", tree_reg1.score(X_test_scaled, y_test))"
   ]
  },
  {
   "cell_type": "code",
   "execution_count": 219,
   "id": "0aa44194-adca-4991-978e-cbfef9c93b86",
   "metadata": {},
   "outputs": [],
   "source": [
    "tree_reg2 = DecisionTreeRegressor(max_depth=6, random_state=42)\n",
    "tree_reg2.fit(X_train_scaled, y_train)\n",
    "y_pred_tree2 = tree_reg2.predict(X_test_scaled)"
   ]
  },
  {
   "cell_type": "code",
   "execution_count": 220,
   "id": "ccc3e3f7-a652-4bca-84eb-55d84790fa75",
   "metadata": {},
   "outputs": [
    {
     "name": "stdout",
     "output_type": "stream",
     "text": [
      "The Root Mean Squared Error: 0.51\n",
      "The Mean Absolute Error: 0.45\n",
      "Coefficient of determination: -0.02\n"
     ]
    }
   ],
   "source": [
    "###mean_squared_error, r2_score, mean_absolute_error\n",
    "print('The Root Mean Squared Error:', round(np.sqrt(mean_squared_error(y_test,y_pred_tree2)), 2))\n",
    "print('The Mean Absolute Error:', round(mean_absolute_error(y_test,y_pred_tree2), 2))\n",
    "print('Coefficient of determination:', round(r2_score(y_test,y_pred_tree2), 2))"
   ]
  },
  {
   "cell_type": "code",
   "execution_count": 221,
   "id": "62cfa557-e54b-429b-8afc-a843aa1ec4de",
   "metadata": {},
   "outputs": [
    {
     "name": "stdout",
     "output_type": "stream",
     "text": [
      "                    Features  Importance scores\n",
      "0               Tweet_Length           0.004937\n",
      "1              Mention_Count           0.007285\n",
      "2                 Count_ADJs           0.036127\n",
      "3                Count_NOUNS           0.037442\n",
      "4                Count_VERBS           0.055727\n",
      "5                 vocab_size           0.068668\n",
      "6                  diversity           0.074507\n",
      "7    UserName_DiamondPetFood           0.102122\n",
      "8            UserName_Purina           0.111499\n",
      "9       UserName_bluebuffalo           0.150004\n",
      "10  UserName_wellnesspetfood           0.351684\n"
     ]
    }
   ],
   "source": [
    "features = X_train\n",
    "importances = list(tree_reg2.feature_importances_)\n",
    "imp=sorted(importances, reverse=False)\n",
    "tab=pd.DataFrame(list(zip(X,imp)),columns =['Features', 'Importance scores']) \n",
    "with pd.option_context('display.max_rows', None, 'display.max_columns', None):  \n",
    "    print(tab)"
   ]
  },
  {
   "cell_type": "markdown",
   "id": "5b609554-77f9-43d2-bdab-ee1dbcc5fada",
   "metadata": {},
   "source": [
    "There is simply not a lot of predictive power given the features present. Part of the issue might be the nature of the sentiment casting, since it is the words themselves that determine the sentiment (so word embedding here would be redundant).\n",
    "Adding vocab size and diversity of words did NOT help any of these scores."
   ]
  },
  {
   "cell_type": "markdown",
   "id": "f8cac62d-e9f3-433e-b14b-309e1764729f",
   "metadata": {},
   "source": [
    "## Linear SVC"
   ]
  },
  {
   "cell_type": "code",
   "execution_count": 222,
   "id": "a8df4a0d-67bd-4c50-99cd-a99928e9b69f",
   "metadata": {},
   "outputs": [
    {
     "data": {
      "text/html": [
       "<style>#sk-container-id-16 {color: black;background-color: white;}#sk-container-id-16 pre{padding: 0;}#sk-container-id-16 div.sk-toggleable {background-color: white;}#sk-container-id-16 label.sk-toggleable__label {cursor: pointer;display: block;width: 100%;margin-bottom: 0;padding: 0.3em;box-sizing: border-box;text-align: center;}#sk-container-id-16 label.sk-toggleable__label-arrow:before {content: \"▸\";float: left;margin-right: 0.25em;color: #696969;}#sk-container-id-16 label.sk-toggleable__label-arrow:hover:before {color: black;}#sk-container-id-16 div.sk-estimator:hover label.sk-toggleable__label-arrow:before {color: black;}#sk-container-id-16 div.sk-toggleable__content {max-height: 0;max-width: 0;overflow: hidden;text-align: left;background-color: #f0f8ff;}#sk-container-id-16 div.sk-toggleable__content pre {margin: 0.2em;color: black;border-radius: 0.25em;background-color: #f0f8ff;}#sk-container-id-16 input.sk-toggleable__control:checked~div.sk-toggleable__content {max-height: 200px;max-width: 100%;overflow: auto;}#sk-container-id-16 input.sk-toggleable__control:checked~label.sk-toggleable__label-arrow:before {content: \"▾\";}#sk-container-id-16 div.sk-estimator input.sk-toggleable__control:checked~label.sk-toggleable__label {background-color: #d4ebff;}#sk-container-id-16 div.sk-label input.sk-toggleable__control:checked~label.sk-toggleable__label {background-color: #d4ebff;}#sk-container-id-16 input.sk-hidden--visually {border: 0;clip: rect(1px 1px 1px 1px);clip: rect(1px, 1px, 1px, 1px);height: 1px;margin: -1px;overflow: hidden;padding: 0;position: absolute;width: 1px;}#sk-container-id-16 div.sk-estimator {font-family: monospace;background-color: #f0f8ff;border: 1px dotted black;border-radius: 0.25em;box-sizing: border-box;margin-bottom: 0.5em;}#sk-container-id-16 div.sk-estimator:hover {background-color: #d4ebff;}#sk-container-id-16 div.sk-parallel-item::after {content: \"\";width: 100%;border-bottom: 1px solid gray;flex-grow: 1;}#sk-container-id-16 div.sk-label:hover label.sk-toggleable__label {background-color: #d4ebff;}#sk-container-id-16 div.sk-serial::before {content: \"\";position: absolute;border-left: 1px solid gray;box-sizing: border-box;top: 0;bottom: 0;left: 50%;z-index: 0;}#sk-container-id-16 div.sk-serial {display: flex;flex-direction: column;align-items: center;background-color: white;padding-right: 0.2em;padding-left: 0.2em;position: relative;}#sk-container-id-16 div.sk-item {position: relative;z-index: 1;}#sk-container-id-16 div.sk-parallel {display: flex;align-items: stretch;justify-content: center;background-color: white;position: relative;}#sk-container-id-16 div.sk-item::before, #sk-container-id-16 div.sk-parallel-item::before {content: \"\";position: absolute;border-left: 1px solid gray;box-sizing: border-box;top: 0;bottom: 0;left: 50%;z-index: -1;}#sk-container-id-16 div.sk-parallel-item {display: flex;flex-direction: column;z-index: 1;position: relative;background-color: white;}#sk-container-id-16 div.sk-parallel-item:first-child::after {align-self: flex-end;width: 50%;}#sk-container-id-16 div.sk-parallel-item:last-child::after {align-self: flex-start;width: 50%;}#sk-container-id-16 div.sk-parallel-item:only-child::after {width: 0;}#sk-container-id-16 div.sk-dashed-wrapped {border: 1px dashed gray;margin: 0 0.4em 0.5em 0.4em;box-sizing: border-box;padding-bottom: 0.4em;background-color: white;}#sk-container-id-16 div.sk-label label {font-family: monospace;font-weight: bold;display: inline-block;line-height: 1.2em;}#sk-container-id-16 div.sk-label-container {text-align: center;}#sk-container-id-16 div.sk-container {/* jupyter's `normalize.less` sets `[hidden] { display: none; }` but bootstrap.min.css set `[hidden] { display: none !important; }` so we also need the `!important` here to be able to override the default hidden behavior on the sphinx rendered scikit-learn.org. See: https://github.com/scikit-learn/scikit-learn/issues/21755 */display: inline-block !important;position: relative;}#sk-container-id-16 div.sk-text-repr-fallback {display: none;}</style><div id=\"sk-container-id-16\" class=\"sk-top-container\"><div class=\"sk-text-repr-fallback\"><pre>LinearSVC(max_iter=10000)</pre><b>In a Jupyter environment, please rerun this cell to show the HTML representation or trust the notebook. <br />On GitHub, the HTML representation is unable to render, please try loading this page with nbviewer.org.</b></div><div class=\"sk-container\" hidden><div class=\"sk-item\"><div class=\"sk-estimator sk-toggleable\"><input class=\"sk-toggleable__control sk-hidden--visually\" id=\"sk-estimator-id-16\" type=\"checkbox\" checked><label for=\"sk-estimator-id-16\" class=\"sk-toggleable__label sk-toggleable__label-arrow\">LinearSVC</label><div class=\"sk-toggleable__content\"><pre>LinearSVC(max_iter=10000)</pre></div></div></div></div></div>"
      ],
      "text/plain": [
       "LinearSVC(max_iter=10000)"
      ]
     },
     "execution_count": 222,
     "metadata": {},
     "output_type": "execute_result"
    }
   ],
   "source": [
    "lsvc = LinearSVC(verbose=0, max_iter=10000)\n",
    "lsvc"
   ]
  },
  {
   "cell_type": "code",
   "execution_count": 223,
   "id": "ff54dbb2-ff34-4452-86cb-84023bf61ba4",
   "metadata": {},
   "outputs": [
    {
     "data": {
      "text/html": [
       "<style>#sk-container-id-17 {color: black;background-color: white;}#sk-container-id-17 pre{padding: 0;}#sk-container-id-17 div.sk-toggleable {background-color: white;}#sk-container-id-17 label.sk-toggleable__label {cursor: pointer;display: block;width: 100%;margin-bottom: 0;padding: 0.3em;box-sizing: border-box;text-align: center;}#sk-container-id-17 label.sk-toggleable__label-arrow:before {content: \"▸\";float: left;margin-right: 0.25em;color: #696969;}#sk-container-id-17 label.sk-toggleable__label-arrow:hover:before {color: black;}#sk-container-id-17 div.sk-estimator:hover label.sk-toggleable__label-arrow:before {color: black;}#sk-container-id-17 div.sk-toggleable__content {max-height: 0;max-width: 0;overflow: hidden;text-align: left;background-color: #f0f8ff;}#sk-container-id-17 div.sk-toggleable__content pre {margin: 0.2em;color: black;border-radius: 0.25em;background-color: #f0f8ff;}#sk-container-id-17 input.sk-toggleable__control:checked~div.sk-toggleable__content {max-height: 200px;max-width: 100%;overflow: auto;}#sk-container-id-17 input.sk-toggleable__control:checked~label.sk-toggleable__label-arrow:before {content: \"▾\";}#sk-container-id-17 div.sk-estimator input.sk-toggleable__control:checked~label.sk-toggleable__label {background-color: #d4ebff;}#sk-container-id-17 div.sk-label input.sk-toggleable__control:checked~label.sk-toggleable__label {background-color: #d4ebff;}#sk-container-id-17 input.sk-hidden--visually {border: 0;clip: rect(1px 1px 1px 1px);clip: rect(1px, 1px, 1px, 1px);height: 1px;margin: -1px;overflow: hidden;padding: 0;position: absolute;width: 1px;}#sk-container-id-17 div.sk-estimator {font-family: monospace;background-color: #f0f8ff;border: 1px dotted black;border-radius: 0.25em;box-sizing: border-box;margin-bottom: 0.5em;}#sk-container-id-17 div.sk-estimator:hover {background-color: #d4ebff;}#sk-container-id-17 div.sk-parallel-item::after {content: \"\";width: 100%;border-bottom: 1px solid gray;flex-grow: 1;}#sk-container-id-17 div.sk-label:hover label.sk-toggleable__label {background-color: #d4ebff;}#sk-container-id-17 div.sk-serial::before {content: \"\";position: absolute;border-left: 1px solid gray;box-sizing: border-box;top: 0;bottom: 0;left: 50%;z-index: 0;}#sk-container-id-17 div.sk-serial {display: flex;flex-direction: column;align-items: center;background-color: white;padding-right: 0.2em;padding-left: 0.2em;position: relative;}#sk-container-id-17 div.sk-item {position: relative;z-index: 1;}#sk-container-id-17 div.sk-parallel {display: flex;align-items: stretch;justify-content: center;background-color: white;position: relative;}#sk-container-id-17 div.sk-item::before, #sk-container-id-17 div.sk-parallel-item::before {content: \"\";position: absolute;border-left: 1px solid gray;box-sizing: border-box;top: 0;bottom: 0;left: 50%;z-index: -1;}#sk-container-id-17 div.sk-parallel-item {display: flex;flex-direction: column;z-index: 1;position: relative;background-color: white;}#sk-container-id-17 div.sk-parallel-item:first-child::after {align-self: flex-end;width: 50%;}#sk-container-id-17 div.sk-parallel-item:last-child::after {align-self: flex-start;width: 50%;}#sk-container-id-17 div.sk-parallel-item:only-child::after {width: 0;}#sk-container-id-17 div.sk-dashed-wrapped {border: 1px dashed gray;margin: 0 0.4em 0.5em 0.4em;box-sizing: border-box;padding-bottom: 0.4em;background-color: white;}#sk-container-id-17 div.sk-label label {font-family: monospace;font-weight: bold;display: inline-block;line-height: 1.2em;}#sk-container-id-17 div.sk-label-container {text-align: center;}#sk-container-id-17 div.sk-container {/* jupyter's `normalize.less` sets `[hidden] { display: none; }` but bootstrap.min.css set `[hidden] { display: none !important; }` so we also need the `!important` here to be able to override the default hidden behavior on the sphinx rendered scikit-learn.org. See: https://github.com/scikit-learn/scikit-learn/issues/21755 */display: inline-block !important;position: relative;}#sk-container-id-17 div.sk-text-repr-fallback {display: none;}</style><div id=\"sk-container-id-17\" class=\"sk-top-container\"><div class=\"sk-text-repr-fallback\"><pre>LinearSVC(max_iter=10000)</pre><b>In a Jupyter environment, please rerun this cell to show the HTML representation or trust the notebook. <br />On GitHub, the HTML representation is unable to render, please try loading this page with nbviewer.org.</b></div><div class=\"sk-container\" hidden><div class=\"sk-item\"><div class=\"sk-estimator sk-toggleable\"><input class=\"sk-toggleable__control sk-hidden--visually\" id=\"sk-estimator-id-17\" type=\"checkbox\" checked><label for=\"sk-estimator-id-17\" class=\"sk-toggleable__label sk-toggleable__label-arrow\">LinearSVC</label><div class=\"sk-toggleable__content\"><pre>LinearSVC(max_iter=10000)</pre></div></div></div></div></div>"
      ],
      "text/plain": [
       "LinearSVC(max_iter=10000)"
      ]
     },
     "execution_count": 223,
     "metadata": {},
     "output_type": "execute_result"
    }
   ],
   "source": [
    "lsvc.fit(X_train_scaled, y_train)"
   ]
  },
  {
   "cell_type": "code",
   "execution_count": 224,
   "id": "6b37b8c8-0134-4aeb-bbea-b722620a9d2f",
   "metadata": {},
   "outputs": [
    {
     "name": "stdout",
     "output_type": "stream",
     "text": [
      "Training score for LinearSVC: 0.5906642728904847\n",
      "Testing score for LinearSVC: 0.5397489539748954\n"
     ]
    }
   ],
   "source": [
    "print(\"Training score for LinearSVC:\", lsvc.score(X_train_scaled, y_train))\n",
    "print(\"Testing score for LinearSVC:\", lsvc.score(X_test_scaled, y_test))\n",
    "# Again, vocab size and diversity did not help"
   ]
  },
  {
   "cell_type": "code",
   "execution_count": 225,
   "id": "58b55f3b-171c-46ca-8e91-eee2c2daf9b5",
   "metadata": {},
   "outputs": [
    {
     "name": "stdout",
     "output_type": "stream",
     "text": [
      "CV average score: 0.56\n"
     ]
    }
   ],
   "source": [
    "cv_scores = cross_val_score(lsvc, X_test_scaled, y_test, cv=10)\n",
    "print(\"CV average score: %.2f\" % cv_scores.mean())"
   ]
  },
  {
   "cell_type": "code",
   "execution_count": 226,
   "id": "2e1b561f-a3fc-443f-b1b1-6d80c556bd9f",
   "metadata": {},
   "outputs": [],
   "source": [
    "y_pred = lsvc.predict(X_test_scaled)\n"
   ]
  },
  {
   "cell_type": "code",
   "execution_count": 227,
   "id": "ccdb500b-c348-41c6-8794-0601f9825692",
   "metadata": {},
   "outputs": [
    {
     "name": "stdout",
     "output_type": "stream",
     "text": [
      "[[59 63]\n",
      " [47 70]]\n"
     ]
    }
   ],
   "source": [
    "\n",
    "cm = confusion_matrix(y_test, y_pred)\n",
    "print(cm)"
   ]
  },
  {
   "cell_type": "code",
   "execution_count": 229,
   "id": "da42307f-5eea-419d-b749-2b5eea18baee",
   "metadata": {},
   "outputs": [
    {
     "name": "stdout",
     "output_type": "stream",
     "text": [
      "The Root Mean Squared Error with LinearSVC Regression: 0.68\n",
      "The Mean Absolute Error with LinearSVC Regression: 0.46\n",
      "Coefficient of determination with LinearSVC Regression: -0.84\n"
     ]
    }
   ],
   "source": [
    "###mean_squared_error, r2_score, mean_absolute_error\n",
    "print('The Root Mean Squared Error with LinearSVC Regression:', round(np.sqrt(mean_squared_error(y_test,y_pred)), 2))\n",
    "print('The Mean Absolute Error with LinearSVC Regression:', round(mean_absolute_error(y_test,y_pred), 2))\n",
    "print('Coefficient of determination with LinearSVC Regression:', round(r2_score(y_test,y_pred), 2))\n",
    "## So the errors aren't bad but the R-squared is trash for LinearSVC"
   ]
  },
  {
   "cell_type": "code",
   "execution_count": 230,
   "id": "09fdd7e9-2fdf-4dba-a061-63d48df48256",
   "metadata": {},
   "outputs": [
    {
     "name": "stdout",
     "output_type": "stream",
     "text": [
      "              precision    recall  f1-score   support\n",
      "\n",
      "           0       0.56      0.48      0.52       122\n",
      "           1       0.53      0.60      0.56       117\n",
      "\n",
      "    accuracy                           0.54       239\n",
      "   macro avg       0.54      0.54      0.54       239\n",
      "weighted avg       0.54      0.54      0.54       239\n",
      "\n"
     ]
    }
   ],
   "source": [
    "cr = classification_report(y_test, y_pred)\n",
    "print(cr)"
   ]
  },
  {
   "cell_type": "markdown",
   "id": "486683a0-b109-455c-b4aa-7ba809226619",
   "metadata": {},
   "source": [
    "Before we throw another model at this effort, let's take a look at decision space"
   ]
  },
  {
   "cell_type": "code",
   "execution_count": 231,
   "id": "0516b878-07b7-457c-9367-577dd6688e7a",
   "metadata": {},
   "outputs": [
    {
     "data": {
      "image/png": "[encoded data removed]",
      "text/plain": [
       "<Figure size 640x480 with 1 Axes>"
      ]
     },
     "metadata": {},
     "output_type": "display_data"
    }
   ],
   "source": [
    "X = df[['Count_ADJs','Count_NOUNS']].to_numpy()  # we only take the first two features.\n",
    "y = df.sentiment_cut\n",
    "\n",
    "def make_meshgrid(x, y, h=.02):\n",
    "    x_min, x_max = x.min() - 1, x.max() + 1\n",
    "    y_min, y_max = y.min() - 1, y.max() + 1\n",
    "    xx, yy = np.meshgrid(np.arange(x_min, x_max, h), np.arange(y_min, y_max, h))\n",
    "    return xx, yy\n",
    "\n",
    "def plot_contours(ax, clf, xx, yy, **params):\n",
    "    Z = clf.predict(np.c_[xx.ravel(), yy.ravel()])\n",
    "    Z = Z.reshape(xx.shape)\n",
    "    out = ax.contourf(xx, yy, Z, **params)\n",
    "    return out\n",
    "\n",
    "model = SVC(kernel='linear')\n",
    "clf = model.fit(X, y)\n",
    "\n",
    "fig, ax = plt.subplots()\n",
    "# title for the plots\n",
    "title = ('Decision surface of linear SVC ')\n",
    "# Set-up grid for plotting.\n",
    "X0, X1 = X[:, 0], X[:, 1]\n",
    "xx, yy = make_meshgrid(X0, X1)\n",
    "\n",
    "plot_contours(ax, clf, xx, yy, cmap=plt.cm.coolwarm, alpha=0.8)\n",
    "ax.scatter(X0, X1, c=y, cmap=plt.cm.coolwarm, s=20, edgecolors='k')\n",
    "ax.set_ylabel('Count of Nouns')\n",
    "ax.set_xlabel('Count of Adjectives')\n",
    "ax.set_xticks(())\n",
    "ax.set_yticks(())\n",
    "ax.set_title(title)\n",
    "plt.savefig('Decision surface with Nouns and Adjectives')\n",
    "plt.show()\n"
   ]
  },
  {
   "cell_type": "code",
   "execution_count": 59,
   "id": "6ce18d67-e5db-4973-b857-5678e5604932",
   "metadata": {},
   "outputs": [
    {
     "data": {
      "image/png": "[encoded data removed]",
      "text/plain": [
       "<Figure size 640x480 with 1 Axes>"
      ]
     },
     "metadata": {},
     "output_type": "display_data"
    }
   ],
   "source": [
    "X = df[['Count_ADJs','Tweet_Length']].to_numpy()  # we only take the first two features.\n",
    "y = df.sentiment_cut\n",
    "\n",
    "def make_meshgrid(x, y, h=.02):\n",
    "    x_min, x_max = x.min() - 1, x.max() + 1\n",
    "    y_min, y_max = y.min() - 1, y.max() + 1\n",
    "    xx, yy = np.meshgrid(np.arange(x_min, x_max, h), np.arange(y_min, y_max, h))\n",
    "    return xx, yy\n",
    "\n",
    "def plot_contours(ax, clf, xx, yy, **params):\n",
    "    Z = clf.predict(np.c_[xx.ravel(), yy.ravel()])\n",
    "    Z = Z.reshape(xx.shape)\n",
    "    out = ax.contourf(xx, yy, Z, **params)\n",
    "    return out\n",
    "\n",
    "model = SVC(kernel='linear')\n",
    "clf = model.fit(X, y)\n",
    "\n",
    "fig, ax = plt.subplots()\n",
    "# title for the plots\n",
    "title = ('Decision surface of linear SVC ')\n",
    "# Set-up grid for plotting.\n",
    "X0, X1 = X[:, 0], X[:, 1]\n",
    "xx, yy = make_meshgrid(X0, X1)\n",
    "\n",
    "plot_contours(ax, clf, xx, yy, cmap=plt.cm.coolwarm, alpha=0.8)\n",
    "ax.scatter(X0, X1, c=y, cmap=plt.cm.coolwarm, s=20, edgecolors='k')\n",
    "ax.set_ylabel('Tweet Length')\n",
    "ax.set_xlabel('Count of Adjectives')\n",
    "ax.set_xticks(())\n",
    "ax.set_yticks(())\n",
    "ax.set_title(title)\n",
    "\n",
    "plt.savefig('Decision surface with Tweet Length and Adjectives')\n",
    "plt.show()\n"
   ]
  },
  {
   "cell_type": "code",
   "execution_count": 61,
   "id": "bfcc0326-7eb8-4d77-a122-a8429e417a1e",
   "metadata": {},
   "outputs": [
    {
     "data": {
      "image/png": "[encoded data removed]",
      "text/plain": [
       "<Figure size 640x480 with 1 Axes>"
      ]
     },
     "metadata": {},
     "output_type": "display_data"
    }
   ],
   "source": [
    "X = df[['Count_ADJs','Mention_Count']].to_numpy()  # we only take the first two features.\n",
    "y = df.sentiment_cut\n",
    "\n",
    "def make_meshgrid(x, y, h=.02):\n",
    "    x_min, x_max = x.min() - 1, x.max() + 1\n",
    "    y_min, y_max = y.min() - 1, y.max() + 1\n",
    "    xx, yy = np.meshgrid(np.arange(x_min, x_max, h), np.arange(y_min, y_max, h))\n",
    "    return xx, yy\n",
    "\n",
    "def plot_contours(ax, clf, xx, yy, **params):\n",
    "    Z = clf.predict(np.c_[xx.ravel(), yy.ravel()])\n",
    "    Z = Z.reshape(xx.shape)\n",
    "    out = ax.contourf(xx, yy, Z, **params)\n",
    "    return out\n",
    "\n",
    "model = SVC(kernel='linear')\n",
    "clf = model.fit(X, y)\n",
    "\n",
    "fig, ax = plt.subplots()\n",
    "# title for the plots\n",
    "title = ('Decision surface of linear SVC ')\n",
    "# Set-up grid for plotting.\n",
    "X0, X1 = X[:, 0], X[:, 1]\n",
    "xx, yy = make_meshgrid(X0, X1)\n",
    "\n",
    "plot_contours(ax, clf, xx, yy, cmap=plt.cm.coolwarm, alpha=0.8)\n",
    "ax.scatter(X0, X1, c=y, cmap=plt.cm.coolwarm, s=20, edgecolors='k')\n",
    "ax.set_ylabel('Mentions')\n",
    "ax.set_xlabel('Count of Adjectives')\n",
    "ax.set_xticks(())\n",
    "ax.set_yticks(())\n",
    "ax.set_title(title)\n",
    "\n",
    "plt.savefig('Decision surface with Mentions and Adjectives')\n",
    "plt.show()\n"
   ]
  },
  {
   "cell_type": "markdown",
   "id": "34318275-ffb1-4bd4-9a1d-ad1e4a14881e",
   "metadata": {},
   "source": [
    "KNeighborsClassifier is the next attempt; The addition of the entity counts has not helped any of the models"
   ]
  },
  {
   "cell_type": "code",
   "execution_count": 232,
   "id": "12ffbde2-46cf-4d52-ab8d-f2922336ee73",
   "metadata": {},
   "outputs": [
    {
     "data": {
      "text/html": [
       "<style>#sk-container-id-18 {color: black;background-color: white;}#sk-container-id-18 pre{padding: 0;}#sk-container-id-18 div.sk-toggleable {background-color: white;}#sk-container-id-18 label.sk-toggleable__label {cursor: pointer;display: block;width: 100%;margin-bottom: 0;padding: 0.3em;box-sizing: border-box;text-align: center;}#sk-container-id-18 label.sk-toggleable__label-arrow:before {content: \"▸\";float: left;margin-right: 0.25em;color: #696969;}#sk-container-id-18 label.sk-toggleable__label-arrow:hover:before {color: black;}#sk-container-id-18 div.sk-estimator:hover label.sk-toggleable__label-arrow:before {color: black;}#sk-container-id-18 div.sk-toggleable__content {max-height: 0;max-width: 0;overflow: hidden;text-align: left;background-color: #f0f8ff;}#sk-container-id-18 div.sk-toggleable__content pre {margin: 0.2em;color: black;border-radius: 0.25em;background-color: #f0f8ff;}#sk-container-id-18 input.sk-toggleable__control:checked~div.sk-toggleable__content {max-height: 200px;max-width: 100%;overflow: auto;}#sk-container-id-18 input.sk-toggleable__control:checked~label.sk-toggleable__label-arrow:before {content: \"▾\";}#sk-container-id-18 div.sk-estimator input.sk-toggleable__control:checked~label.sk-toggleable__label {background-color: #d4ebff;}#sk-container-id-18 div.sk-label input.sk-toggleable__control:checked~label.sk-toggleable__label {background-color: #d4ebff;}#sk-container-id-18 input.sk-hidden--visually {border: 0;clip: rect(1px 1px 1px 1px);clip: rect(1px, 1px, 1px, 1px);height: 1px;margin: -1px;overflow: hidden;padding: 0;position: absolute;width: 1px;}#sk-container-id-18 div.sk-estimator {font-family: monospace;background-color: #f0f8ff;border: 1px dotted black;border-radius: 0.25em;box-sizing: border-box;margin-bottom: 0.5em;}#sk-container-id-18 div.sk-estimator:hover {background-color: #d4ebff;}#sk-container-id-18 div.sk-parallel-item::after {content: \"\";width: 100%;border-bottom: 1px solid gray;flex-grow: 1;}#sk-container-id-18 div.sk-label:hover label.sk-toggleable__label {background-color: #d4ebff;}#sk-container-id-18 div.sk-serial::before {content: \"\";position: absolute;border-left: 1px solid gray;box-sizing: border-box;top: 0;bottom: 0;left: 50%;z-index: 0;}#sk-container-id-18 div.sk-serial {display: flex;flex-direction: column;align-items: center;background-color: white;padding-right: 0.2em;padding-left: 0.2em;position: relative;}#sk-container-id-18 div.sk-item {position: relative;z-index: 1;}#sk-container-id-18 div.sk-parallel {display: flex;align-items: stretch;justify-content: center;background-color: white;position: relative;}#sk-container-id-18 div.sk-item::before, #sk-container-id-18 div.sk-parallel-item::before {content: \"\";position: absolute;border-left: 1px solid gray;box-sizing: border-box;top: 0;bottom: 0;left: 50%;z-index: -1;}#sk-container-id-18 div.sk-parallel-item {display: flex;flex-direction: column;z-index: 1;position: relative;background-color: white;}#sk-container-id-18 div.sk-parallel-item:first-child::after {align-self: flex-end;width: 50%;}#sk-container-id-18 div.sk-parallel-item:last-child::after {align-self: flex-start;width: 50%;}#sk-container-id-18 div.sk-parallel-item:only-child::after {width: 0;}#sk-container-id-18 div.sk-dashed-wrapped {border: 1px dashed gray;margin: 0 0.4em 0.5em 0.4em;box-sizing: border-box;padding-bottom: 0.4em;background-color: white;}#sk-container-id-18 div.sk-label label {font-family: monospace;font-weight: bold;display: inline-block;line-height: 1.2em;}#sk-container-id-18 div.sk-label-container {text-align: center;}#sk-container-id-18 div.sk-container {/* jupyter's `normalize.less` sets `[hidden] { display: none; }` but bootstrap.min.css set `[hidden] { display: none !important; }` so we also need the `!important` here to be able to override the default hidden behavior on the sphinx rendered scikit-learn.org. See: https://github.com/scikit-learn/scikit-learn/issues/21755 */display: inline-block !important;position: relative;}#sk-container-id-18 div.sk-text-repr-fallback {display: none;}</style><div id=\"sk-container-id-18\" class=\"sk-top-container\"><div class=\"sk-text-repr-fallback\"><pre>KNeighborsClassifier(n_neighbors=3)</pre><b>In a Jupyter environment, please rerun this cell to show the HTML representation or trust the notebook. <br />On GitHub, the HTML representation is unable to render, please try loading this page with nbviewer.org.</b></div><div class=\"sk-container\" hidden><div class=\"sk-item\"><div class=\"sk-estimator sk-toggleable\"><input class=\"sk-toggleable__control sk-hidden--visually\" id=\"sk-estimator-id-18\" type=\"checkbox\" checked><label for=\"sk-estimator-id-18\" class=\"sk-toggleable__label sk-toggleable__label-arrow\">KNeighborsClassifier</label><div class=\"sk-toggleable__content\"><pre>KNeighborsClassifier(n_neighbors=3)</pre></div></div></div></div></div>"
      ],
      "text/plain": [
       "KNeighborsClassifier(n_neighbors=3)"
      ]
     },
     "execution_count": 232,
     "metadata": {},
     "output_type": "execute_result"
    }
   ],
   "source": [
    ">>> neigh = KNeighborsClassifier(n_neighbors=3)\n",
    ">>> neigh.fit(X_train_scaled, y_train)"
   ]
  },
  {
   "cell_type": "code",
   "execution_count": 233,
   "id": "bf5cad0c-da7b-4549-a8cc-34e9005d611e",
   "metadata": {},
   "outputs": [
    {
     "name": "stdout",
     "output_type": "stream",
     "text": [
      "Training score for LinearSVC: 0.7791741472172352\n",
      "Testing score for LinearSVC: 0.6234309623430963\n"
     ]
    }
   ],
   "source": [
    "print(\"Training score for LinearSVC:\", neigh.score(X_train_scaled, y_train))\n",
    "print(\"Testing score for LinearSVC:\", neigh.score(X_test_scaled, y_test))"
   ]
  },
  {
   "cell_type": "code",
   "execution_count": 234,
   "id": "566a52ea-b2b1-44e4-b5d8-ba441a491bb0",
   "metadata": {},
   "outputs": [],
   "source": [
    "y_pred = neigh.predict(X_test_scaled)"
   ]
  },
  {
   "cell_type": "code",
   "execution_count": 235,
   "id": "f6a232ad-ee1d-4c15-b04f-d2bee2b635d5",
   "metadata": {},
   "outputs": [
    {
     "name": "stdout",
     "output_type": "stream",
     "text": [
      "The Root Mean Squared Error with LinearSVC Regression: 0.61\n",
      "The Mean Absolute Error with LinearSVC Regression: 0.38\n",
      "Coefficient of determination with LinearSVC Regression: -0.51\n"
     ]
    }
   ],
   "source": [
    "###mean_squared_error, r2_score, mean_absolute_error\n",
    "print('The Root Mean Squared Error with LinearSVC Regression:', round(np.sqrt(mean_squared_error(y_test,y_pred)), 2))\n",
    "print('The Mean Absolute Error with LinearSVC Regression:', round(mean_absolute_error(y_test,y_pred), 2))\n",
    "print('Coefficient of determination with LinearSVC Regression:', round(r2_score(y_test,y_pred), 2))\n",
    "## So the errors aren't bad but the R-squared is trash for LinearSVC"
   ]
  },
  {
   "cell_type": "code",
   "execution_count": 236,
   "id": "eb71fdd6-5ad9-4ee8-aff1-ed551d70ac84",
   "metadata": {},
   "outputs": [
    {
     "name": "stdout",
     "output_type": "stream",
     "text": [
      "[[73 49]\n",
      " [41 76]]\n"
     ]
    }
   ],
   "source": [
    "\n",
    "\n",
    "cm = confusion_matrix(y_test, y_pred)\n",
    "print(cm)"
   ]
  },
  {
   "cell_type": "code",
   "execution_count": 237,
   "id": "4314b43d-a9e3-4e0f-8f0d-f18adbaaa264",
   "metadata": {},
   "outputs": [
    {
     "name": "stdout",
     "output_type": "stream",
     "text": [
      "              precision    recall  f1-score   support\n",
      "\n",
      "           0       0.64      0.60      0.62       122\n",
      "           1       0.61      0.65      0.63       117\n",
      "\n",
      "    accuracy                           0.62       239\n",
      "   macro avg       0.62      0.62      0.62       239\n",
      "weighted avg       0.62      0.62      0.62       239\n",
      "\n"
     ]
    }
   ],
   "source": [
    "cr = classification_report(y_test, y_pred)\n",
    "print(cr)\n",
    "#precision and recall are closer and better match\n",
    "# But LinearSVC() is still a better F1 score for a positive prediction"
   ]
  },
  {
   "cell_type": "markdown",
   "id": "652fe4b9-659a-437d-b0d4-996cdd3bcdb0",
   "metadata": {},
   "source": [
    "## Gradient Boosted Trees"
   ]
  },
  {
   "cell_type": "code",
   "execution_count": 238,
   "id": "e9826e83-6115-44bb-8861-a8612bdc3ae0",
   "metadata": {},
   "outputs": [],
   "source": [
    "# create model instance\n",
    "bst = XGBClassifier(n_estimators=2, max_depth=2, learning_rate=1, objective='binary:logistic')\n",
    "# fit model\n",
    "bst.fit(X_train_scaled, y_train)\n",
    "# make predictions\n",
    "preds = bst.predict(X_test_scaled)"
   ]
  },
  {
   "cell_type": "code",
   "execution_count": 239,
   "id": "7c9870ca-22e2-4437-9000-6f421df411ba",
   "metadata": {},
   "outputs": [
    {
     "name": "stdout",
     "output_type": "stream",
     "text": [
      "[[70 52]\n",
      " [60 57]]\n"
     ]
    }
   ],
   "source": [
    "cm = confusion_matrix(y_test, preds)\n",
    "print(cm)\n",
    "# is there hope?"
   ]
  },
  {
   "cell_type": "code",
   "execution_count": 240,
   "id": "c4ac4141-ef27-4c09-a3cf-9c04cf9a58c6",
   "metadata": {},
   "outputs": [
    {
     "name": "stdout",
     "output_type": "stream",
     "text": [
      "Training score for XGBClassifier: 0.6319569120287253\n",
      "Testing score for XGBClassifier: 0.5313807531380753\n"
     ]
    }
   ],
   "source": [
    "# Evaluate the model: And a halfway decent R-Squared score for a full go; Ok comparison for the test score. \n",
    "# Not looking great\n",
    "\n",
    "print(\"Training score for XGBClassifier:\", bst.score(X_train_scaled, y_train))\n",
    "print(\"Testing score for XGBClassifier:\", bst.score(X_test_scaled, y_test))\n",
    "# So only slightly better than KNN; Again, worse with vocab size and diversity"
   ]
  },
  {
   "cell_type": "code",
   "execution_count": 241,
   "id": "65332172-7fbc-429a-bad3-7a206d6ee3e0",
   "metadata": {
    "scrolled": true
   },
   "outputs": [
    {
     "name": "stdout",
     "output_type": "stream",
     "text": [
      "The Root Mean Squared Error XGBClassifier: 0.68\n",
      "The Mean Absolute Error XGBClassifier: 0.47\n",
      "Coefficient of determination XGBClassifier: -0.88\n"
     ]
    }
   ],
   "source": [
    "###mean_squared_error, r2_score, mean_absolute_error. TREE WITH DEPTH 2\n",
    "print('The Root Mean Squared Error XGBClassifier:', round(np.sqrt(mean_squared_error(y_test,preds)), 2))\n",
    "print('The Mean Absolute Error XGBClassifier:', round(mean_absolute_error(y_test,preds), 2))\n",
    "print('Coefficient of determination XGBClassifier:', round(r2_score(y_test,preds), 2))"
   ]
  },
  {
   "cell_type": "code",
   "execution_count": 242,
   "id": "b8334997-8b40-4b62-8ab0-66356af7d90d",
   "metadata": {},
   "outputs": [
    {
     "name": "stdout",
     "output_type": "stream",
     "text": [
      "              precision    recall  f1-score   support\n",
      "\n",
      "           0       0.54      0.57      0.56       122\n",
      "           1       0.52      0.49      0.50       117\n",
      "\n",
      "    accuracy                           0.53       239\n",
      "   macro avg       0.53      0.53      0.53       239\n",
      "weighted avg       0.53      0.53      0.53       239\n",
      "\n"
     ]
    }
   ],
   "source": [
    "cr = classification_report(y_test, preds)\n",
    "print(cr)\n",
    "#precision and recall are okish\n",
    "# But LinearSVC() is still a better F1 score for a positive prediction"
   ]
  },
  {
   "cell_type": "code",
   "execution_count": 243,
   "id": "bf20361e-9a3b-498a-998e-5f65dc2cdcd8",
   "metadata": {},
   "outputs": [
    {
     "name": "stdout",
     "output_type": "stream",
     "text": [
      "[0]\teval-logloss:0.69569\ttrain-logloss:0.66339\n",
      "[1]\teval-logloss:0.69126\ttrain-logloss:0.64131\n",
      "error=0.468619\n"
     ]
    }
   ],
   "source": [
    "## Try with trees\n",
    "# load data in do training\n",
    "dtrain = xgb.DMatrix(X_train_scaled, y_train)\n",
    "dtest = xgb.DMatrix(X_test_scaled, y_test)\n",
    "param = {\"max_depth\": 2, \"eta\": 1, \"objective\": \"binary:logistic\"}\n",
    "watchlist = [(dtest, \"eval\"), (dtrain, \"train\")]\n",
    "num_round = 2\n",
    "bst = xgb.train(param, dtrain, num_boost_round=num_round, evals=watchlist)\n",
    "\n",
    "# run prediction\n",
    "preds = bst.predict(dtest)\n",
    "labels = dtest.get_label()\n",
    "print(\n",
    "    \"error=%f\"\n",
    "    % (\n",
    "        sum(1 for i in range(len(preds)) if int(preds[i] > 0.5) != labels[i])\n",
    "        / float(len(preds))\n",
    "    )\n",
    ")\n",
    "#Not much improvement here"
   ]
  },
  {
   "cell_type": "code",
   "execution_count": 244,
   "id": "37a58610-b49a-416e-82f5-7799f568dd03",
   "metadata": {
    "scrolled": true
   },
   "outputs": [
    {
     "name": "stdout",
     "output_type": "stream",
     "text": [
      "The Root Mean Squared Error XGBTrain: 0.5\n",
      "The Mean Absolute Error XGBTrain: 0.48\n",
      "Coefficient of determination XGBTrain: 0.0\n"
     ]
    }
   ],
   "source": [
    "###mean_squared_error, r2_score, mean_absolute_error. TREE WITH DEPTH 2\n",
    "print('The Root Mean Squared Error XGBTrain:', round(np.sqrt(mean_squared_error(y_test,preds)), 2))\n",
    "print('The Mean Absolute Error XGBTrain:', round(mean_absolute_error(y_test,preds), 2))\n",
    "print('Coefficient of determination XGBTrain:', round(r2_score(y_test,preds), 2))"
   ]
  }
 ],
 "metadata": {
  "kernelspec": {
   "display_name": "Python 3 (ipykernel)",
   "language": "python",
   "name": "python3"
  },
  "language_info": {
   "codemirror_mode": {
    "name": "ipython",
    "version": 3
   },
   "file_extension": ".py",
   "mimetype": "text/x-python",
   "name": "python",
   "nbconvert_exporter": "python",
   "pygments_lexer": "ipython3",
   "version": "3.9.16"
  }
 },
 "nbformat": 4,
 "nbformat_minor": 5
}
